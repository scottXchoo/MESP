{
 "cells": [
  {
   "cell_type": "code",
   "execution_count": 1,
   "metadata": {},
   "outputs": [],
   "source": [
    "import pickle\n",
    "\n",
    "MODEL_PATH = './output/kshape_model_k6.pkl'\n",
    "\n",
    "def k_shape_predict(dataset):\n",
    "    # 모델 로드\n",
    "    with open(MODEL_PATH, 'rb') as f:\n",
    "        model = pickle.load(f)\n",
    "\n",
    "    # 클러스터 예측\n",
    "    cluster_label = model.predict(dataset)  # 0~5 (클러스터 번호)\n",
    "\n",
    "    return cluster_label"
   ]
  },
  {
   "cell_type": "code",
   "execution_count": null,
   "metadata": {},
   "outputs": [
    {
     "name": "stdout",
     "output_type": "stream",
     "text": [
      "Cluster labels for the training dataset:\n",
      "[3 3 2 5 2 1 2 1 3 1 4 1 1 1 5 2 1 3 5 2]\n"
     ]
    }
   ],
   "source": [
    "import numpy as np\n",
    "\n",
    "ORIGINAL_DATA_PATH = './dataset/preprocessed_training_dataset.npy'\n",
    "MODEL_PATH = './output/kshape_model_k6.pkl'\n",
    "\n",
    "X_train = np.load(ORIGINAL_DATA_PATH)\n",
    "\n",
    "predicted_data = X_train[50:70]  # 예측할 데이터 샘플\n",
    "\n",
    "cluster_labels = k_shape_predict(predicted_data)\n",
    "\n",
    "print(\"\\n--- K-Shape Clustering Prediction Example ---\")\n",
    "print(cluster_labels)  # [1 0 3 ... 2 5 4] (출력값 예시)"
   ]
  },
  {
   "cell_type": "code",
   "execution_count": null,
   "metadata": {},
   "outputs": [],
   "source": []
  }
 ],
 "metadata": {
  "kernelspec": {
   "display_name": "mesp",
   "language": "python",
   "name": "python3"
  },
  "language_info": {
   "codemirror_mode": {
    "name": "ipython",
    "version": 3
   },
   "file_extension": ".py",
   "mimetype": "text/x-python",
   "name": "python",
   "nbconvert_exporter": "python",
   "pygments_lexer": "ipython3",
   "version": "3.13.5"
  }
 },
 "nbformat": 4,
 "nbformat_minor": 2
}

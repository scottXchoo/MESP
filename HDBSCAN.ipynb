{
 "cells": [
  {
   "cell_type": "code",
   "execution_count": 5,
   "metadata": {},
   "outputs": [
    {
     "name": "stdout",
     "output_type": "stream",
     "text": [
      "--- Step 1: Loading and Sampling Data ---\n",
      "✅ Data prepared. Shape: (1000, 1440)\n"
     ]
    }
   ],
   "source": [
    "import numpy as np\n",
    "import matplotlib.pyplot as plt\n",
    "from tqdm import tqdm\n",
    "import umap\n",
    "import hdbscan\n",
    "from tslearn.metrics import dtw\n",
    "from pynndescent import NNDescent # pynndescent 라이브러리 임포트\n",
    "\n",
    "# --- 1. 설정 및 데이터 로드 ---\n",
    "# -----------------------------\n",
    "DATASET_PATH = './dataset/preprocessed_training_dataset.npy'\n",
    "\n",
    "# 계산 시간이 매우 길 수 있으므로, 먼저 작은 샘플로 테스트하는 것을 강력히 권장합니다.\n",
    "SAMPLE_SIZE = 1000\n",
    "\n",
    "print(\"--- Step 1: Loading and Sampling Data ---\")\n",
    "X_train = np.load(DATASET_PATH)\n",
    "sample_indices = np.random.choice(X_train.shape[0], SAMPLE_SIZE, replace=False)\n",
    "X_sample = X_train[sample_indices]\n",
    "X_sample_2d = X_sample.reshape(SAMPLE_SIZE, -1)\n",
    "print(f\"✅ Data prepared. Shape: {X_sample_2d.shape}\")"
   ]
  },
  {
   "cell_type": "code",
   "execution_count": 6,
   "metadata": {},
   "outputs": [],
   "source": [
    "# Numba JIT 컴파일러를 직접 사용하기 위해 임포트\n",
    "from numba import njit, float32\n",
    "from pynndescent import NNDescent\n",
    "\n",
    "@njit(fastmath=True)\n",
    "def numba_dtw_independent(s1, s2):\n",
    "    \"\"\"\n",
    "    Numba로 컴파일 가능한 독립적인 DTW 함수.\n",
    "    tslearn에 의존하지 않아 안정적입니다.\n",
    "    \"\"\"\n",
    "    n, m = len(s1), len(s2)\n",
    "    # 비용 행렬 초기화 (첫 행과 열은 무한대로)\n",
    "    cost_matrix = np.full((n + 1, m + 1), np.inf)\n",
    "    cost_matrix[0, 0] = 0.\n",
    "\n",
    "    # 동적 프로그래밍으로 비용 행렬 채우기\n",
    "    for i in range(1, n + 1):\n",
    "        for j in range(1, m + 1):\n",
    "            cost = (s1[i - 1] - s2[j - 1]) ** 2\n",
    "            cost_matrix[i, j] = cost + min(cost_matrix[i - 1, j],        # Insertion\n",
    "                                          cost_matrix[i, j - 1],        # Deletion\n",
    "                                          cost_matrix[i - 1, j - 1])    # Match\n",
    "    \n",
    "    # 최종 DTW 거리 반환\n",
    "    return np.sqrt(cost_matrix[n, m])"
   ]
  },
  {
   "cell_type": "code",
   "execution_count": null,
   "metadata": {},
   "outputs": [
    {
     "name": "stdout",
     "output_type": "stream",
     "text": [
      "\n",
      "--- Step 2: Pre-computing approximate nearest neighbors with pynndescent ---\n",
      "This pre-computation makes the main UMAP step much faster.\n"
     ]
    }
   ],
   "source": [
    "from joblib import dump\n",
    "\n",
    "# --- 2. (★★★ 핵심 수정 사항 ★★★) pynndescent로 사전 인덱싱 ---\n",
    "# -------------------------------------------------------------\n",
    "print(\"\\n--- Step 2: Pre-computing approximate nearest neighbors with pynndescent ---\")\n",
    "print(\"This pre-computation makes the main UMAP step much faster.\")\n",
    "\n",
    "# pynndescent를 사용하여 DTW 기반의 최근접 이웃 인덱스를 미리 생성\n",
    "# 이 과정이 UMAP에 직접 DTW를 넣는 것보다 훨씬 빠릅니다.\n",
    "index = NNDescent(\n",
    "    X_sample_2d,\n",
    "    metric=numba_dtw_independent,\n",
    "    n_neighbors=20, # UMAP의 n_neighbors와 동일하게 설정\n",
    "    random_state=42,\n",
    "    n_jobs=-1\n",
    ")\n",
    "index.prepare()\n",
    "\n",
    "output_path = './output/pynndescent_index.joblib'\n",
    "dump(index, output_path)\n",
    "print(f\"✅ Index saved to {output_path}\")"
   ]
  },
  {
   "cell_type": "code",
   "execution_count": null,
   "metadata": {},
   "outputs": [],
   "source": []
  }
 ],
 "metadata": {
  "kernelspec": {
   "display_name": "mesp",
   "language": "python",
   "name": "python3"
  },
  "language_info": {
   "codemirror_mode": {
    "name": "ipython",
    "version": 3
   },
   "file_extension": ".py",
   "mimetype": "text/x-python",
   "name": "python",
   "nbconvert_exporter": "python",
   "pygments_lexer": "ipython3",
   "version": "3.13.5"
  }
 },
 "nbformat": 4,
 "nbformat_minor": 2
}

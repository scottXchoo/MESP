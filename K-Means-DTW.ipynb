{
 "cells": [
  {
   "cell_type": "code",
   "execution_count": 4,
   "metadata": {},
   "outputs": [],
   "source": [
    "import numpy as np\n",
    "import matplotlib.pyplot as plt\n",
    "from tslearn.clustering import TimeSeriesKMeans\n",
    "from sklearn.metrics import silhouette_score, calinski_harabasz_score, davies_bouldin_score\n",
    "from joblib import dump\n",
    "import os"
   ]
  },
  {
   "cell_type": "code",
   "execution_count": 7,
   "metadata": {},
   "outputs": [],
   "source": [
    "# --- 1. 설정 ---\n",
    "# --------------------\n",
    "\n",
    "# 분석하고 싶은 K 값 지정\n",
    "K_VALUE = 5\n",
    "\n",
    "# 데이터 및 모델 경로\n",
    "DATASET_PATH = './dataset/preprocessed_training_dataset.npy'\n",
    "MODELS_DIR = './dataset/models'\n",
    "os.makedirs(MODELS_DIR, exist_ok=True)\n",
    "MODEL_SAVE_PATH = os.path.join(MODELS_DIR, f'dtw_kmeans_k{K_VALUE}_model.joblib')"
   ]
  },
  {
   "cell_type": "code",
   "execution_count": 10,
   "metadata": {},
   "outputs": [
    {
     "name": "stdout",
     "output_type": "stream",
     "text": [
      "--- Loading data and training model for K=5 ---\n"
     ]
    }
   ],
   "source": [
    "# --- 2. 데이터 로드 ---\n",
    "# --------------------\n",
    "print(f\"--- Loading data and training model for K={K_VALUE} ---\")\n",
    "X_train = np.load(DATASET_PATH)"
   ]
  },
  {
   "cell_type": "code",
   "execution_count": null,
   "metadata": {},
   "outputs": [
    {
     "name": "stdout",
     "output_type": "stream",
     "text": [
      "Fitting the DTW K-Means model...\n"
     ]
    },
    {
     "name": "stderr",
     "output_type": "stream",
     "text": [
      "[Parallel(n_jobs=-1)]: Using backend ThreadingBackend with 20 concurrent workers.\n",
      "[Parallel(n_jobs=-1)]: Done  10 tasks      | elapsed:    0.0s\n",
      "[Parallel(n_jobs=-1)]: Done 160 tasks      | elapsed:    0.7s\n",
      "[Parallel(n_jobs=-1)]: Done 410 tasks      | elapsed:    2.0s\n",
      "[Parallel(n_jobs=-1)]: Done 760 tasks      | elapsed:    3.7s\n",
      "[Parallel(n_jobs=-1)]: Done 1210 tasks      | elapsed:    5.7s\n",
      "[Parallel(n_jobs=-1)]: Done 1760 tasks      | elapsed:    8.6s\n",
      "[Parallel(n_jobs=-1)]: Done 2410 tasks      | elapsed:   11.8s\n",
      "[Parallel(n_jobs=-1)]: Done 3160 tasks      | elapsed:   15.8s\n",
      "[Parallel(n_jobs=-1)]: Done 4010 tasks      | elapsed:   20.2s\n",
      "[Parallel(n_jobs=-1)]: Done 4960 tasks      | elapsed:   25.1s\n",
      "[Parallel(n_jobs=-1)]: Done 6010 tasks      | elapsed:   30.5s\n",
      "[Parallel(n_jobs=-1)]: Done 7160 tasks      | elapsed:   36.5s\n",
      "[Parallel(n_jobs=-1)]: Done 8410 tasks      | elapsed:   42.8s\n",
      "[Parallel(n_jobs=-1)]: Done 9760 tasks      | elapsed:   49.7s\n",
      "[Parallel(n_jobs=-1)]: Done 11210 tasks      | elapsed:   56.6s\n",
      "[Parallel(n_jobs=-1)]: Done 12760 tasks      | elapsed:  1.1min\n",
      "[Parallel(n_jobs=-1)]: Done 14410 tasks      | elapsed:  1.2min\n",
      "[Parallel(n_jobs=-1)]: Done 16160 tasks      | elapsed:  1.3min\n",
      "[Parallel(n_jobs=-1)]: Done 18010 tasks      | elapsed:  1.5min\n",
      "[Parallel(n_jobs=-1)]: Done 19960 tasks      | elapsed:  1.6min\n",
      "[Parallel(n_jobs=-1)]: Done 22010 tasks      | elapsed:  1.8min\n",
      "[Parallel(n_jobs=-1)]: Done 24160 tasks      | elapsed:  2.0min\n",
      "[Parallel(n_jobs=-1)]: Done 26410 tasks      | elapsed:  2.2min\n",
      "[Parallel(n_jobs=-1)]: Done 28760 tasks      | elapsed:  2.3min\n",
      "[Parallel(n_jobs=-1)]: Done 31210 tasks      | elapsed:  2.5min\n",
      "[Parallel(n_jobs=-1)]: Done 33760 tasks      | elapsed:  2.7min\n",
      "[Parallel(n_jobs=-1)]: Done 36410 tasks      | elapsed:  3.0min\n",
      "[Parallel(n_jobs=-1)]: Done 39160 tasks      | elapsed:  3.2min\n",
      "[Parallel(n_jobs=-1)]: Done 42010 tasks      | elapsed:  3.4min\n",
      "[Parallel(n_jobs=-1)]: Done 44960 tasks      | elapsed:  3.6min\n",
      "[Parallel(n_jobs=-1)]: Done 48010 tasks      | elapsed:  3.9min\n",
      "[Parallel(n_jobs=-1)]: Done 51160 tasks      | elapsed:  4.1min\n",
      "[Parallel(n_jobs=-1)]: Done 54410 tasks      | elapsed:  4.4min\n",
      "[Parallel(n_jobs=-1)]: Done 57760 tasks      | elapsed:  4.7min\n",
      "[Parallel(n_jobs=-1)]: Done 61210 tasks      | elapsed:  4.9min\n",
      "[Parallel(n_jobs=-1)]: Done 64760 tasks      | elapsed:  5.2min\n",
      "[Parallel(n_jobs=-1)]: Done 68410 tasks      | elapsed:  5.5min\n",
      "[Parallel(n_jobs=-1)]: Done 72160 tasks      | elapsed:  5.8min\n",
      "[Parallel(n_jobs=-1)]: Done 76010 tasks      | elapsed:  6.1min\n",
      "[Parallel(n_jobs=-1)]: Done 79960 tasks      | elapsed:  6.4min\n",
      "[Parallel(n_jobs=-1)]: Done 84010 tasks      | elapsed:  6.8min\n",
      "[Parallel(n_jobs=-1)]: Done 88160 tasks      | elapsed:  7.1min\n",
      "[Parallel(n_jobs=-1)]: Done 92410 tasks      | elapsed:  7.4min\n",
      "[Parallel(n_jobs=-1)]: Done 96760 tasks      | elapsed:  7.8min\n",
      "[Parallel(n_jobs=-1)]: Done 101210 tasks      | elapsed:  8.1min\n",
      "[Parallel(n_jobs=-1)]: Done 105760 tasks      | elapsed:  8.5min\n",
      "[Parallel(n_jobs=-1)]: Done 110410 tasks      | elapsed:  8.9min\n",
      "[Parallel(n_jobs=-1)]: Done 115160 tasks      | elapsed:  9.2min\n",
      "[Parallel(n_jobs=-1)]: Done 120010 tasks      | elapsed:  9.6min\n",
      "[Parallel(n_jobs=-1)]: Done 124960 tasks      | elapsed: 10.0min\n",
      "[Parallel(n_jobs=-1)]: Done 130010 tasks      | elapsed: 10.4min\n",
      "[Parallel(n_jobs=-1)]: Done 135160 tasks      | elapsed: 10.9min\n",
      "[Parallel(n_jobs=-1)]: Done 140410 tasks      | elapsed: 11.3min\n",
      "[Parallel(n_jobs=-1)]: Done 145760 tasks      | elapsed: 11.7min\n"
     ]
    }
   ],
   "source": [
    "# --- 3. DTW K-Means 모델 학습 ---\n",
    "# --------------------------------\n",
    "radius = int(0.1 * X_train.shape[1]) # Sakoe-Chiba 반지름 (시계열 길이의 10%)\n",
    "\n",
    "model = TimeSeriesKMeans(\n",
    "    n_clusters=K_VALUE,\n",
    "    metric='dtw',\n",
    "    metric_params={\"global_constraint\": \"sakoe_chiba\", \"sakoe_chiba_radius\": radius},\n",
    "    init=\"k-means++\",\n",
    "    n_init=1,\n",
    "    max_iter_barycenter=50,\n",
    "    random_state=42,\n",
    "    n_jobs=-1,\n",
    "    verbose=1\n",
    ")\n",
    "print(\"Fitting the DTW K-Means model...\")\n",
    "labels = model.fit_predict(X_train)\n",
    "print(\"✅ Model fitting complete.\")"
   ]
  },
  {
   "cell_type": "code",
   "execution_count": null,
   "metadata": {},
   "outputs": [],
   "source": []
  }
 ],
 "metadata": {
  "kernelspec": {
   "display_name": "mesp",
   "language": "python",
   "name": "python3"
  },
  "language_info": {
   "codemirror_mode": {
    "name": "ipython",
    "version": 3
   },
   "file_extension": ".py",
   "mimetype": "text/x-python",
   "name": "python",
   "nbconvert_exporter": "python",
   "pygments_lexer": "ipython3",
   "version": "3.13.5"
  }
 },
 "nbformat": 4,
 "nbformat_minor": 2
}

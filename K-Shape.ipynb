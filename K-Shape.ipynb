{
 "cells": [
  {
   "cell_type": "code",
   "execution_count": null,
   "metadata": {},
   "outputs": [
    {
     "name": "stdout",
     "output_type": "stream",
     "text": [
      "Converting data type from float64 to float32...\n"
     ]
    }
   ],
   "source": [
    "import numpy as np\n",
    "import matplotlib.pyplot as plt\n",
    "from tqdm import tqdm\n",
    "from tslearn.clustering import KShape\n",
    "from sklearn.metrics import silhouette_score\n",
    "from joblib import Parallel, delayed, dump, load\n",
    "from tslearn.preprocessing import TimeSeriesResampler\n",
    "import os\n",
    "\n",
    "# 설정\n",
    "\n",
    "# 원본 데이터 경로\n",
    "ORIGINAL_DATA_PATH = './dataset/preprocessed_training_dataset.npy'\n",
    "# 다운샘플링된 데이터를 저장할 경로\n",
    "DOWNSAMPLED_DATA_PATH = './dataset/preprocessed_downsampled.npy'\n",
    "# 병렬 처리를 위한 임시 데이터 파일\n",
    "TEMP_DATA_PATH = './dataset/temp_data_for_parallel.mmap'\n",
    "\n",
    "# 빠른 테스트용 설정\n",
    "QUICK_TEST_SIZE = 1000\n",
    "QUICK_TEST_K_RANGE = range(2, 5) # K = 2,3,4만 테스트\n",
    "\n",
    "# 본격적인 탐색용 설정\n",
    "SAMPLE_FRACTION = 0.1 # 전체 데이터의 일부만 사용\n",
    "FULL_K_RANGE = range(2, 16)\n",
    "\n",
    "X_train = np.load(ORIGINAL_DATA_PATH)\n",
    "\n",
    "# 데이터 타입을 float32로 변환하여 메모리 사용량 절감\n",
    "if X_train.dtype != 'float32':\n",
    "    print(f\"Converting data type from {X_train.dtype} to float32...\")\n",
    "    X_downsampled = X_train.astype('float32')"
   ]
  },
  {
   "cell_type": "code",
   "execution_count": null,
   "metadata": {},
   "outputs": [
    {
     "name": "stdout",
     "output_type": "stream",
     "text": [
      "--- Step 1: Downsampling and Saving Data ---\n"
     ]
    }
   ],
   "source": [
    "# 다운샘플링 및 저장\n",
    "print(\"--- Step 1: Downsampling and Saving Data ---\")\n",
    "\n",
    "# 10분 단위로 다운샘플링 (1440 -> 144)\n",
    "resampler = TimeSeriesResampler(sz=X_train.shape[1] // 10)\n",
    "X_resampled = resampler.fit_transform(X_train)"
   ]
  },
  {
   "cell_type": "code",
   "execution_count": 3,
   "metadata": {},
   "outputs": [
    {
     "name": "stdout",
     "output_type": "stream",
     "text": [
      "--- Loading and Preparing Data ---\n"
     ]
    }
   ],
   "source": [
    "np.save(DOWNSAMPLED_DATA_PATH, X_resampled)\n",
    "\n",
    "print(\"--- Loading and Preparing Data ---\")\n",
    "X_downsampled = np.load(DOWNSAMPLED_DATA_PATH)\n",
    "\n",
    "del X_train, X_resampled"
   ]
  },
  {
   "cell_type": "code",
   "execution_count": null,
   "metadata": {},
   "outputs": [
    {
     "data": {
      "text/plain": [
       "['./dataset/temp_data_for_parallel.mmap']"
      ]
     },
     "execution_count": 39,
     "metadata": {},
     "output_type": "execute_result"
    }
   ],
   "source": [
    "# K 탐색에 사용할 최종 데이터 (메모리 매핑을 위해 저장)\n",
    "dump(X_downsampled, TEMP_DATA_PATH)"
   ]
  },
  {
   "cell_type": "code",
   "execution_count": null,
   "metadata": {},
   "outputs": [],
   "source": [
    "# 병렬 작업을 위한 함수 정의\n",
    "def calculate_kshape_metrics(k, data_path):\n",
    "    # 메모리 매핑 모드로 데이터 로드하여 메모리 복제 방지\n",
    "    data_mmap = load(data_path, mmap_mode='r')\n",
    "    # 데이터 차원 축소\n",
    "    if data_mmap.ndim == 3 and data_mmap.shape[2] == 1:\n",
    "        data_2d = data_mmap.squeeze(axis=2)\n",
    "        print(f\"Reshaped X_quick_test to: {data_2d.shape}\")\n",
    "    print(f\"calculate_kshape_metrics: Loaded data shape: {data_2d.shape} for k={k}\")\n",
    "\n",
    "    # tslearn은 3D 배열을 요구하므로 차원 확장\n",
    "    data_3d = data_2d.reshape(data_2d.shape[0], data_2d.shape[1], 1)\n",
    "    print(f\"calculate_kshape_metrics: Reshaped data to 3D: {data_3d.shape} for k={k}\")\n",
    "\n",
    "    try:\n",
    "        model = KShape(n_clusters=k, n_init=1, max_iter=30, random_state=42, verbose=-1)\n",
    "        labels = model.fit_predict(data_3d)\n",
    "        inertia = model.inertia_\n",
    "\n",
    "        score = -1 # 기본값\n",
    "        if len(np.unique(labels)) > 1:\n",
    "            # 원본 데이터(2D)와 유클리드 거리를 사용해 점수 계산\n",
    "            score = silhouette_score(data_2d, labels, metric='euclidean')\n",
    " \n",
    "        return (k, inertia, score)\n",
    "    except Exception as e:\n",
    "        print(f\"Error calculating for k={k}: {e}\")\n",
    "        return (k, None, None)"
   ]
  },
  {
   "cell_type": "code",
   "execution_count": null,
   "metadata": {},
   "outputs": [
    {
     "name": "stdout",
     "output_type": "stream",
     "text": [
      "\n",
      "--- Step 2: Quick Test Run (DEBUG MODE - NO PARALLELISM) ---\n",
      "Running a quick test with 1000 samples for K=[2, 3, 4]...\n",
      "Testing k=2...\n",
      "Reshaped X_quick_test to: (1000, 144)\n",
      "calculate_kshape_metrics: Loaded data shape: (1000, 144) for k=2\n",
      "calculate_kshape_metrics: Reshaped data to 3D: (1000, 144, 1) for k=2\n",
      "0.213 --> 0.187 --> 0.175 --> 0.160 --> 0.159 --> 0.159 --> 0.159 --> \n",
      "Testing k=3...\n",
      "Reshaped X_quick_test to: (1000, 144)\n",
      "calculate_kshape_metrics: Loaded data shape: (1000, 144) for k=3\n",
      "calculate_kshape_metrics: Reshaped data to 3D: (1000, 144, 1) for k=3\n",
      "0.177 --> 0.131 --> 0.111 --> 0.104 --> 0.102 --> 0.101 --> 0.101 --> 0.101 --> \n",
      "Testing k=4...\n",
      "Reshaped X_quick_test to: (1000, 144)\n",
      "calculate_kshape_metrics: Loaded data shape: (1000, 144) for k=4\n",
      "calculate_kshape_metrics: Reshaped data to 3D: (1000, 144, 1) for k=4\n",
      "0.165 --> 0.118 --> 0.103 --> 0.091 --> 0.091 --> 0.091 --> \n",
      "✅ Quick test completed. Results: [(2, np.float64(0.15934327783871816), np.float64(0.14282791515836005)), (3, np.float64(0.10091324782633276), np.float64(0.15521218409507406)), (4, np.float64(0.09053842481941728), np.float64(0.14996143106767706))]\n"
     ]
    }
   ],
   "source": [
    "# 빠른 테스트 실행 (병렬 처리 없이 디버깅 모드로)\n",
    "print(\"\\n--- Step 2: Quick Test Run (DEBUG MODE - NO PARALLELISM) ---\")\n",
    "X_downsampled = np.load(DOWNSAMPLED_DATA_PATH)\n",
    "    \n",
    "X_quick_test = X_downsampled[:QUICK_TEST_SIZE]\n",
    "dump(X_quick_test, TEMP_DATA_PATH)\n",
    "\n",
    "print(f\"Running a quick test with {QUICK_TEST_SIZE} samples for K={list(QUICK_TEST_K_RANGE)}...\")\n",
    "\n",
    "# Parallel() 대신 간단한 for 루프 사용\n",
    "test_results = []\n",
    "for k in QUICK_TEST_K_RANGE:\n",
    "    print(f\"Testing k={k}...\")\n",
    "    # 수정된 함수를 직접 호출하여 오류가 발생하는지 확인합니다.\n",
    "    result = calculate_kshape_metrics(k, TEMP_DATA_PATH)\n",
    "    test_results.append(result)\n",
    "\n",
    "print(\"✅ Quick test completed. Results:\", test_results)\n",
    "\n",
    "os.remove(TEMP_DATA_PATH) # 임시 파일 삭제"
   ]
  },
  {
   "cell_type": "markdown",
   "metadata": {},
   "source": [
    "## 최적 K 탐색"
   ]
  },
  {
   "cell_type": "code",
   "execution_count": null,
   "metadata": {},
   "outputs": [
    {
     "name": "stdout",
     "output_type": "stream",
     "text": [
      "\n",
      "--- Step 3: Full Optimal K Search (on 0.1% sample) ---\n",
      "Running full search with 28268 samples for K=[2, 3, 4, 5, 6, 7, 8, 9, 10, 11, 12, 13, 14, 15]...\n"
     ]
    },
    {
     "name": "stderr",
     "output_type": "stream",
     "text": [
      "Dispatching K-value jobs: 100%|██████████| 14/14 [02:35<00:00, 11.08s/it]\n"
     ]
    }
   ],
   "source": [
    "# 본격적인 최적 K 탐색\n",
    "print(f\"\\n--- Step 3: Full Optimal K Search (on {SAMPLE_FRACTION}% sample) ---\")\n",
    "\n",
    "# 다운샘플링된 데이터의 N%를 무작위로 샘플링\n",
    "sample_size = int(len(X_downsampled) * SAMPLE_FRACTION)\n",
    "sample_indices = np.random.choice(len(X_downsampled), sample_size, replace=False)\n",
    "X_sample = X_downsampled[sample_indices]\n",
    "dump(X_sample, TEMP_DATA_PATH) # 본격 탐색용 샘플 데이터를 임시 파일로 저장\n",
    "\n",
    "print(f\"Running full search with {sample_size} samples for K={list(FULL_K_RANGE)}...\")\n",
    "results = Parallel(n_jobs=7)(\n",
    "    delayed(calculate_kshape_metrics)(k, TEMP_DATA_PATH) for k in tqdm(FULL_K_RANGE, desc=\"Dispatching K-value jobs\")\n",
    ")"
   ]
  },
  {
   "cell_type": "code",
   "execution_count": 15,
   "metadata": {},
   "outputs": [
    {
     "name": "stdout",
     "output_type": "stream",
     "text": [
      "Results saved to ./output\\optimal_k_shape_10%.pkl\n"
     ]
    }
   ],
   "source": [
    "import os\n",
    "import pickle\n",
    "\n",
    "# output 폴더가 없으면 생성\n",
    "output_folder = './output'\n",
    "os.makedirs(output_folder, exist_ok=True)\n",
    "\n",
    "# results를 pickle 파일로 저장\n",
    "results_file_path = os.path.join(output_folder, 'optimal_k_shape_10%.pkl')\n",
    "with open(results_file_path, 'wb') as f:\n",
    "    pickle.dump(results, f)\n",
    "\n",
    "print(f\"Results saved to {results_file_path}\")"
   ]
  },
  {
   "cell_type": "code",
   "execution_count": null,
   "metadata": {},
   "outputs": [
    {
     "name": "stdout",
     "output_type": "stream",
     "text": [
      "\n",
      "--- Step 4: Processing and Visualizing Results ---\n"
     ]
    },
    {
     "data": {
      "image/png": "[encoded data removed]",
      "text/plain": [
       "<Figure size 1800x600 with 2 Axes>"
      ]
     },
     "metadata": {},
     "output_type": "display_data"
    }
   ],
   "source": [
    "# 결과 취합 및 시각화\n",
    "print(\"\\n--- Step 4: Processing and Visualizing Results ---\")\n",
    "results.sort(key=lambda x: x[0])\n",
    "valid_results = [res for res in results if res[1] is not None and res[2] is not None]\n",
    "\n",
    "k_values = [res[0] for res in valid_results]\n",
    "inertia_values = [res[1] for res in valid_results]\n",
    "silhouette_scores = [res[2] for res in valid_results]\n",
    "\n",
    "fig, (ax1, ax2) = plt.subplots(1, 2, figsize=(18, 6))\n",
    "fig.suptitle('Optimal K for K-Shape (on 30% Downsampled Data)', fontsize=16)\n",
    "\n",
    "ax1.plot(k_values, inertia_values, 'bo-')\n",
    "ax1.set_xlabel('Number of clusters (K)'); ax1.set_ylabel('Inertia')\n",
    "ax1.set_title('Elbow Method'); ax1.grid(True)\n",
    "\n",
    "ax2.plot(k_values, silhouette_scores, 'ro-')\n",
    "ax2.set_xlabel('Number of clusters (K)'); ax2.set_ylabel('Silhouette Score')\n",
    "ax2.set_title('Silhouette Score'); ax2.grid(True)\n",
    "\n",
    "plt.show()"
   ]
  },
  {
   "cell_type": "markdown",
   "metadata": {},
   "source": [
    "## K-Shape 학습"
   ]
  },
  {
   "cell_type": "code",
   "execution_count": null,
   "metadata": {},
   "outputs": [
    {
     "name": "stdout",
     "output_type": "stream",
     "text": [
      "\n",
      "--- Step: Training K-Shape with K=6 on Full Data ---\n",
      "0.239 --> 0.228 --> 0.225 --> 0.223 --> 0.222 --> 0.221 --> 0.220 --> 0.219 --> 0.218 --> 0.217 --> \n",
      "Trained K-Shape model saved to ./output/kshape_model_k6.pkl\n"
     ]
    }
   ],
   "source": [
    "from tslearn.clustering import KShape\n",
    "from sklearn.metrics import silhouette_score, calinski_harabasz_score, davies_bouldin_score\n",
    "import pickle\n",
    "\n",
    "# --- K=6로 K-Shape 학습 ---\n",
    "print(\"\\n--- Step: Training K-Shape with K=6 on Full Data ---\")\n",
    "k = 6\n",
    "\n",
    "# K-Shape 모델 초기화\n",
    "model = KShape(n_clusters=k, n_init=1, max_iter=10, random_state=42, verbose=1)\n",
    "\n",
    "# 데이터 차원 축소 (3D -> 2D)\n",
    "X_2d = X_downsampled.squeeze(axis=2)\n",
    "\n",
    "# 학습 및 클러스터링\n",
    "labels = model.fit_predict(X_downsampled)\n",
    "\n",
    "# --- 모델 저장 ---\n",
    "output_model_path = './output/kshape_model_k6.pkl'\n",
    "with open(output_model_path, 'wb') as f:\n",
    "    pickle.dump(model, f)\n",
    "\n",
    "print(f\"Trained K-Shape model saved to {output_model_path}\")"
   ]
  },
  {
   "cell_type": "code",
   "execution_count": null,
   "metadata": {},
   "outputs": [],
   "source": [
    "import numpy as np\n",
    "import os\n",
    "from joblib import load  # pickle 대신 joblib 사용을 권장합니다\n",
    "from tqdm import tqdm\n",
    "\n",
    "# 설정\n",
    "\n",
    "# 이전에 학습하고 저장해 둔 K-Shape 모델 경로\n",
    "# (pickle로 저장하셨다면 확장자를 .pkl로, joblib이면 .joblib으로 수정)\n",
    "MODEL_PATH = './output/kshape_model_k6.pkl'\n",
    "\n",
    "# 분할할 원본 전체 데이터셋 경로\n",
    "FULL_DATASET_PATH = './dataset/preprocessed_training_dataset.npy'\n",
    "\n",
    "# K개의 데이터셋을 저장할 출력 디렉토리\n",
    "OUTPUT_DIR = './clustered_datasets'\n",
    "os.makedirs(OUTPUT_DIR, exist_ok=True)"
   ]
  },
  {
   "cell_type": "code",
   "execution_count": null,
   "metadata": {},
   "outputs": [
    {
     "name": "stdout",
     "output_type": "stream",
     "text": [
      "--- Step 1: Loading trained model and full dataset ---\n",
      "✅ Model loaded successfully. Number of clusters (K) is 6.\n"
     ]
    }
   ],
   "source": [
    "# 모델 및 전체 데이터 로드\n",
    "print(\"--- Step 1: Loading trained model and full dataset ---\")\n",
    "\n",
    "# 저장된 K-Shape 모델 불러오기\n",
    "try:\n",
    "    model = load(MODEL_PATH)\n",
    "except FileNotFoundError:\n",
    "    print(f\"🔴 ERROR: Model file not found at {MODEL_PATH}\")\n",
    "    exit()\n",
    "\n",
    "# K 값은 모델 객체에서 직접 가져올 수 있습니다.\n",
    "K = model.n_clusters\n",
    "print(f\"✅ Model loaded successfully. Number of clusters (K) is {K}.\")"
   ]
  },
  {
   "cell_type": "code",
   "execution_count": null,
   "metadata": {},
   "outputs": [
    {
     "name": "stdout",
     "output_type": "stream",
     "text": [
      "✅ Full dataset loaded successfully. Shape: (282684, 1440, 1)\n"
     ]
    }
   ],
   "source": [
    "# 전체 데이터셋을 메모리 매핑 모드로 로드하여 메모리 사용량 최소화\n",
    "# 파일 전체를 RAM에 올리지 않고 필요한 부분만 접근함\n",
    "try:\n",
    "    full_data = np.load(FULL_DATASET_PATH, mmap_mode='r')\n",
    "    print(f\"✅ Full dataset loaded successfully. Shape: {full_data.shape}\")\n",
    "except FileNotFoundError:\n",
    "    print(f\"🔴 ERROR: Dataset file not found at {FULL_DATASET_PATH}\")\n",
    "    exit()"
   ]
  },
  {
   "cell_type": "code",
   "execution_count": null,
   "metadata": {},
   "outputs": [
    {
     "name": "stdout",
     "output_type": "stream",
     "text": [
      "\n",
      "--- Step 2: Predicting cluster labels for the entire dataset ---\n",
      "✅ Label prediction complete.\n"
     ]
    }
   ],
   "source": [
    "# 전체 데이터에 대한 클러스터 라벨 예측\n",
    "print(\"\\n--- Step 2: Predicting cluster labels for the entire dataset ---\")\n",
    "# 모델의 predict 메소드를 사용하여 각 데이터 포인트의 클러스터 ID를 예측\n",
    "labels = model.predict(full_data)\n",
    "print(\"✅ Label prediction complete.\")"
   ]
  },
  {
   "cell_type": "code",
   "execution_count": null,
   "metadata": {},
   "outputs": [
    {
     "name": "stdout",
     "output_type": "stream",
     "text": [
      "\n",
      "--- Step 3: Splitting and saving data into 6 separate files (Optimized Single-Pass) ---\n",
      "Reshaped full_data to: (282684, 1440)\n"
     ]
    },
    {
     "name": "stderr",
     "output_type": "stream",
     "text": [
      "Splitting and Writing Batches: 100%|██████████| 57/57 [00:46<00:00,  1.23it/s]\n"
     ]
    },
    {
     "name": "stdout",
     "output_type": "stream",
     "text": [
      "\n",
      "🎉 All data has been efficiently split into 6 Parquet datasets!\n"
     ]
    }
   ],
   "source": [
    "import pandas as pd\n",
    "import pyarrow as pa\n",
    "import pyarrow.parquet as pq\n",
    "\n",
    "# 단일 패스로 데이터 분할 및 저장\n",
    "print(f\"\\n--- Step 3: Splitting and saving data into {K} separate files (Optimized Single-Pass) ---\")\n",
    "\n",
    "# 1) 각 클러스터별로 Parquet 파일을 쓰기 위한 writer 객체를 미리 생성\n",
    "parquet_writers = {}\n",
    "columns = [f'feature_{i}' for i in range(full_data.shape[1])]\n",
    "\n",
    "# 데이터 차원 축소 (3D -> 2D)\n",
    "if full_data.ndim == 3 and full_data.shape[2] == 1:\n",
    "    full_data = full_data.squeeze(axis=2)\n",
    "    print(f\"Reshaped full_data to: {full_data.shape}\")\n",
    "    \n",
    "schema = pa.Table.from_pandas(pd.DataFrame([full_data[0]], columns=columns)).schema\n",
    "\n",
    "for k in range(K):\n",
    "    output_path = os.path.join(OUTPUT_DIR, f'cluster_{k}_data.parquet')\n",
    "    parquet_writers[k] = pq.ParquetWriter(output_path, schema=schema)\n",
    "\n",
    "# 2) 데이터를 배치 단위로 순회하며, 각 데이터를 맞는 writer에 쓰기\n",
    "batch_size = 5000\n",
    "num_batches = int(np.ceil(len(full_data) / batch_size))\n",
    "\n",
    "for i in tqdm(range(num_batches), desc=\"Splitting and Writing Batches\"):\n",
    "    start_idx = i * batch_size\n",
    "    end_idx = min((i + 1) * batch_size, len(full_data))\n",
    "    \n",
    "    # 현재 배치에 대한 데이터와 라벨\n",
    "    batch_data = full_data[start_idx:end_idx]\n",
    "    batch_labels = labels[start_idx:end_idx]\n",
    "    \n",
    "    # 배치를 DataFrame으로 만들고 라벨 추가\n",
    "    df_batch = pd.DataFrame(batch_data, columns=columns)\n",
    "    df_batch['cluster_label'] = batch_labels\n",
    "    \n",
    "    # cluster_label로 그룹화하여 내부 루프 대체\n",
    "    for cluster_id, group_df in df_batch.groupby('cluster_label'):\n",
    "        # 원본 데이터만 다시 추출 (cluster_label 컬럼 제외)\n",
    "        group_data_only = group_df.drop(columns=['cluster_label'])\n",
    "        \n",
    "        if not group_data_only.empty:\n",
    "            table_chunk = pa.Table.from_pandas(group_data_only, schema=schema)\n",
    "            # 해당하는 writer에 쓰기\n",
    "            parquet_writers[cluster_id].write_table(table_chunk)\n",
    "\n",
    "# 3) 모든 writer 객체 닫기\n",
    "for writer in parquet_writers.values():\n",
    "    writer.close()\n",
    "\n",
    "print(f\"\\n🎉 All data has been efficiently split into {K} Parquet datasets!\")"
   ]
  },
  {
   "cell_type": "code",
   "execution_count": 36,
   "metadata": {},
   "outputs": [
    {
     "name": "stdout",
     "output_type": "stream",
     "text": [
      "✅ Found 6 Parquet files: ['cluster_0_data.parquet', 'cluster_1_data.parquet', 'cluster_2_data.parquet', 'cluster_3_data.parquet', 'cluster_4_data.parquet', 'cluster_5_data.parquet']\n",
      "\n",
      "📂 File: cluster_0_data.parquet\n",
      "Rows: 55434, Columns: 1440\n",
      "\n",
      "📂 File: cluster_1_data.parquet\n",
      "Rows: 72728, Columns: 1440\n",
      "\n",
      "📂 File: cluster_2_data.parquet\n",
      "Rows: 56024, Columns: 1440\n",
      "\n",
      "📂 File: cluster_3_data.parquet\n",
      "Rows: 24030, Columns: 1440\n",
      "\n",
      "📂 File: cluster_4_data.parquet\n",
      "Rows: 41496, Columns: 1440\n",
      "\n",
      "📂 File: cluster_5_data.parquet\n",
      "Rows: 32972, Columns: 1440\n"
     ]
    }
   ],
   "source": [
    "import os\n",
    "import pyarrow.parquet as pq\n",
    "\n",
    "# 저장된 Parquet 파일 경로\n",
    "output_dir = './clustered_datasets'\n",
    "\n",
    "# 1. 저장된 파일 리스트 확인\n",
    "parquet_files = [f for f in os.listdir(output_dir) if f.endswith('.parquet')]\n",
    "print(f\"✅ Found {len(parquet_files)} Parquet files: {parquet_files}\")\n",
    "\n",
    "# 2. 각 파일의 행(row)과 열(column) 개수 확인\n",
    "for file in parquet_files:\n",
    "    file_path = os.path.join(output_dir, file)\n",
    "    table = pq.read_table(file_path)\n",
    "    num_rows = table.num_rows  # 행 개수\n",
    "    num_columns = table.num_columns  # 열 개수\n",
    "    print(f\"\\n📂 File: {file}\")\n",
    "    print(f\"Rows: {num_rows}, Columns: {num_columns}\")"
   ]
  },
  {
   "cell_type": "code",
   "execution_count": 37,
   "metadata": {},
   "outputs": [
    {
     "name": "stdout",
     "output_type": "stream",
     "text": [
      "\n",
      "--- Evaluation Metrics ---\n",
      "Silhouette Score: 0.0225\n",
      "Calinski-Harabasz Index: 4397.9863\n",
      "Davies-Bouldin Index: 12.3880\n"
     ]
    }
   ],
   "source": [
    "# --- 지표 계산 ---\n",
    "silhouette = silhouette_score(X_2d, labels, metric='euclidean')\n",
    "calinski_harabasz = calinski_harabasz_score(X_2d, labels)\n",
    "davies_bouldin = davies_bouldin_score(X_2d, labels)\n",
    "\n",
    "print(\"\\n--- Evaluation Metrics ---\")\n",
    "print(f\"Silhouette Score: {silhouette:.4f}\")\n",
    "print(f\"Calinski-Harabasz Index: {calinski_harabasz:.4f}\")\n",
    "print(f\"Davies-Bouldin Index: {davies_bouldin:.4f}\")"
   ]
  },
  {
   "cell_type": "markdown",
   "metadata": {},
   "source": []
  }
 ],
 "metadata": {
  "kernelspec": {
   "display_name": "mesp",
   "language": "python",
   "name": "python3"
  },
  "language_info": {
   "codemirror_mode": {
    "name": "ipython",
    "version": 3
   },
   "file_extension": ".py",
   "mimetype": "text/x-python",
   "name": "python",
   "nbconvert_exporter": "python",
   "pygments_lexer": "ipython3",
   "version": "3.13.5"
  }
 },
 "nbformat": 4,
 "nbformat_minor": 2
}

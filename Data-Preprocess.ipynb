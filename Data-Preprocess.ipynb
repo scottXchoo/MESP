{
 "cells": [
  {
   "cell_type": "code",
   "execution_count": 3,
   "metadata": {},
   "outputs": [
    {
     "name": "stdout",
     "output_type": "stream",
     "text": [
      "Loading data from ./Dataset/df_processed.parquet...\n",
      "Data loaded successfully.\n",
      "Data shape: (890704800, 5)\n",
      "   day  minute                                            HashApp  \\\n",
      "0    8       1  000143d27de4ac74f2c7d579294aef2950317dfffdaae9...   \n",
      "1    8       2  000143d27de4ac74f2c7d579294aef2950317dfffdaae9...   \n",
      "2    8       3  000143d27de4ac74f2c7d579294aef2950317dfffdaae9...   \n",
      "3    8       4  000143d27de4ac74f2c7d579294aef2950317dfffdaae9...   \n",
      "4    8       5  000143d27de4ac74f2c7d579294aef2950317dfffdaae9...   \n",
      "\n",
      "                                        HashFunction  invocations  \n",
      "0  d9272e4b43e348badb6af384efcc10835704037e1cf1d2...            0  \n",
      "1  d9272e4b43e348badb6af384efcc10835704037e1cf1d2...            0  \n",
      "2  d9272e4b43e348badb6af384efcc10835704037e1cf1d2...            0  \n",
      "3  d9272e4b43e348badb6af384efcc10835704037e1cf1d2...            0  \n",
      "4  d9272e4b43e348badb6af384efcc10835704037e1cf1d2...            0  \n"
     ]
    }
   ],
   "source": [
    "import pandas as pd\n",
    "import os\n",
    "\n",
    "load_path = './Dataset/df_processed.parquet'\n",
    "output_dir = './Dataset/Divide'\n",
    "\n",
    "os.makedirs(output_dir, exist_ok=True) # 출력 폴더 생성 (존재하지 않으면 생성)\n",
    "\n",
    "print(f\"Loading data from {load_path}...\")\n",
    "\n",
    "# 데이터 불러오기\n",
    "df_processed = pd.read_parquet(load_path, engine='fastparquet', filters=[('Trigger', '!=', 'others')], columns=['day', 'minute', 'HashApp', 'HashFunction', 'invocations'])\n",
    "print(\"Data loaded successfully.\")\n",
    "\n",
    "print(f\"Data shape: {df_processed.shape}\")\n",
    "print(df_processed.head())"
   ]
  },
  {
   "cell_type": "code",
   "execution_count": 4,
   "metadata": {},
   "outputs": [
    {
     "name": "stdout",
     "output_type": "stream",
     "text": [
      "Saved part 1 to ./Dataset/Divide/df_part_1.parquet, shape: (222676200, 5)\n",
      "Saved part 2 to ./Dataset/Divide/df_part_2.parquet, shape: (222676200, 5)\n",
      "Saved part 3 to ./Dataset/Divide/df_part_3.parquet, shape: (222676200, 5)\n",
      "Saved part 4 to ./Dataset/Divide/df_part_4.parquet, shape: (222676200, 5)\n"
     ]
    }
   ],
   "source": [
    "# 4개의 파일로 분리하기\n",
    "num_parts = 4\n",
    "part_size = len(df_processed) // num_parts\n",
    "for i in range(num_parts):\n",
    "    start_idx = i * part_size\n",
    "    end_idx = (i + 1) * part_size if i < num_parts - 1 else len(df_processed)\n",
    "    df_part = df_processed.iloc[start_idx:end_idx]\n",
    "    part_path = f\"{output_dir}/df_part_{i+1}.parquet\"\n",
    "    \n",
    "    # Parquet 형식으로 저장\n",
    "    df_part.to_parquet(part_path, engine='pyarrow', index=False)\n",
    "    print(f\"Saved part {i+1} to {part_path}, shape: {df_part.shape}\")"
   ]
  },
  {
   "cell_type": "code",
   "execution_count": null,
   "metadata": {},
   "outputs": [],
   "source": []
  }
 ],
 "metadata": {
  "kernelspec": {
   "display_name": "mesp",
   "language": "python",
   "name": "python3"
  },
  "language_info": {
   "codemirror_mode": {
    "name": "ipython",
    "version": 3
   },
   "file_extension": ".py",
   "mimetype": "text/x-python",
   "name": "python",
   "nbconvert_exporter": "python",
   "pygments_lexer": "ipython3",
   "version": "3.13.5"
  }
 },
 "nbformat": 4,
 "nbformat_minor": 2
}

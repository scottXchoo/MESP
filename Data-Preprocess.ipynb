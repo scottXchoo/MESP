{
 "cells": [
  {
   "cell_type": "code",
   "execution_count": 12,
   "metadata": {},
   "outputs": [
    {
     "ename": "MemoryError",
     "evalue": "",
     "output_type": "error",
     "traceback": [
      "\u001b[31m---------------------------------------------------------------------------\u001b[39m",
      "\u001b[31mMemoryError\u001b[39m                               Traceback (most recent call last)",
      "\u001b[36mCell\u001b[39m\u001b[36m \u001b[39m\u001b[32mIn[12]\u001b[39m\u001b[32m, line 5\u001b[39m\n\u001b[32m      3\u001b[39m \u001b[38;5;66;03m# 파일을 직접 열어보기\u001b[39;00m\n\u001b[32m      4\u001b[39m \u001b[38;5;28;01mwith\u001b[39;00m \u001b[38;5;28mopen\u001b[39m(\u001b[33m'\u001b[39m\u001b[33m./Dataset/df_processed.pkl\u001b[39m\u001b[33m'\u001b[39m, \u001b[33m'\u001b[39m\u001b[33mrb\u001b[39m\u001b[33m'\u001b[39m) \u001b[38;5;28;01mas\u001b[39;00m f:\n\u001b[32m----> \u001b[39m\u001b[32m5\u001b[39m     data = \u001b[43mpickle\u001b[49m\u001b[43m.\u001b[49m\u001b[43mload\u001b[49m\u001b[43m(\u001b[49m\u001b[43mf\u001b[49m\u001b[43m)\u001b[49m\n\u001b[32m      6\u001b[39m     \u001b[38;5;28mprint\u001b[39m(\u001b[38;5;28mtype\u001b[39m(data))\n",
      "\u001b[31mMemoryError\u001b[39m: "
     ]
    }
   ],
   "source": [
    "import pickle\n",
    "\n",
    "# 파일을 직접 열어보기\n",
    "with open('./Dataset/df_processed.pkl', 'rb') as f:\n",
    "    data = pickle.load(f)\n",
    "    print(type(data))"
   ]
  },
  {
   "cell_type": "code",
   "execution_count": 11,
   "metadata": {},
   "outputs": [
    {
     "name": "stdout",
     "output_type": "stream",
     "text": [
      "Loading data from ./Dataset/df_processed.pkl...\n"
     ]
    },
    {
     "ename": "SystemError",
     "evalue": "deallocated bytearray object has exported buffers",
     "output_type": "error",
     "traceback": [
      "\u001b[31m---------------------------------------------------------------------------\u001b[39m",
      "\u001b[31mSystemError\u001b[39m                               Traceback (most recent call last)",
      "\u001b[31mSystemError\u001b[39m: deallocated bytearray object has exported buffers"
     ]
    },
    {
     "ename": "MemoryError",
     "evalue": "",
     "output_type": "error",
     "traceback": [
      "\u001b[31m---------------------------------------------------------------------------\u001b[39m",
      "\u001b[31mMemoryError\u001b[39m                               Traceback (most recent call last)",
      "\u001b[36mCell\u001b[39m\u001b[36m \u001b[39m\u001b[32mIn[11]\u001b[39m\u001b[32m, line 14\u001b[39m\n\u001b[32m     12\u001b[39m \u001b[38;5;66;03m# 필요한 열만 로드\u001b[39;00m\n\u001b[32m     13\u001b[39m columns_to_load = [\u001b[33m'\u001b[39m\u001b[33mHashApp\u001b[39m\u001b[33m'\u001b[39m, \u001b[33m'\u001b[39m\u001b[33mHashFunction\u001b[39m\u001b[33m'\u001b[39m, \u001b[33m'\u001b[39m\u001b[33mTrigger\u001b[39m\u001b[33m'\u001b[39m]  \u001b[38;5;66;03m# 필요한 열만 지정\u001b[39;00m\n\u001b[32m---> \u001b[39m\u001b[32m14\u001b[39m df_processed = \u001b[43mpd\u001b[49m\u001b[43m.\u001b[49m\u001b[43mread_pickle\u001b[49m\u001b[43m(\u001b[49m\u001b[43mload_path\u001b[49m\u001b[43m)\u001b[49m[columns_to_load]\n\u001b[32m     15\u001b[39m \u001b[38;5;28mprint\u001b[39m(\u001b[33m\"\u001b[39m\u001b[33mData loaded successfully.\u001b[39m\u001b[33m\"\u001b[39m)\n\u001b[32m     16\u001b[39m \u001b[38;5;28mprint\u001b[39m(\u001b[33mf\u001b[39m\u001b[33m\"\u001b[39m\u001b[33mData shape: \u001b[39m\u001b[38;5;132;01m{\u001b[39;00mdf_processed.shape\u001b[38;5;132;01m}\u001b[39;00m\u001b[33m\"\u001b[39m)\n",
      "\u001b[36mFile \u001b[39m\u001b[32mc:\\Users\\ckh06\\anaconda3\\envs\\mesp\\Lib\\site-packages\\pandas\\io\\pickle.py:202\u001b[39m, in \u001b[36mread_pickle\u001b[39m\u001b[34m(filepath_or_buffer, compression, storage_options)\u001b[39m\n\u001b[32m    199\u001b[39m     \u001b[38;5;28;01mwith\u001b[39;00m warnings.catch_warnings(record=\u001b[38;5;28;01mTrue\u001b[39;00m):\n\u001b[32m    200\u001b[39m         \u001b[38;5;66;03m# We want to silence any warnings about, e.g. moved modules.\u001b[39;00m\n\u001b[32m    201\u001b[39m         warnings.simplefilter(\u001b[33m\"\u001b[39m\u001b[33mignore\u001b[39m\u001b[33m\"\u001b[39m, \u001b[38;5;167;01mWarning\u001b[39;00m)\n\u001b[32m--> \u001b[39m\u001b[32m202\u001b[39m         \u001b[38;5;28;01mreturn\u001b[39;00m \u001b[43mpickle\u001b[49m\u001b[43m.\u001b[49m\u001b[43mload\u001b[49m\u001b[43m(\u001b[49m\u001b[43mhandles\u001b[49m\u001b[43m.\u001b[49m\u001b[43mhandle\u001b[49m\u001b[43m)\u001b[49m\n\u001b[32m    203\u001b[39m \u001b[38;5;28;01mexcept\u001b[39;00m excs_to_catch:\n\u001b[32m    204\u001b[39m     \u001b[38;5;66;03m# e.g.\u001b[39;00m\n\u001b[32m    205\u001b[39m     \u001b[38;5;66;03m#  \"No module named 'pandas.core.sparse.series'\"\u001b[39;00m\n\u001b[32m    206\u001b[39m     \u001b[38;5;66;03m#  \"Can't get attribute '__nat_unpickle' on <module 'pandas._libs.tslib\"\u001b[39;00m\n\u001b[32m    207\u001b[39m     \u001b[38;5;28;01mreturn\u001b[39;00m pc.load(handles.handle, encoding=\u001b[38;5;28;01mNone\u001b[39;00m)\n",
      "\u001b[31mMemoryError\u001b[39m: "
     ]
    }
   ],
   "source": [
    "import pandas as pd\n",
    "import os\n",
    "\n",
    "load_path = './Dataset/df_processed.pkl'\n",
    "output_dir = './Dataset/Divide'\n",
    "\n",
    "# 출력 폴더 생성 (존재하지 않으면 생성)\n",
    "os.makedirs(output_dir, exist_ok=True)\n",
    "\n",
    "print(f\"Loading data from {load_path}...\")\n",
    "\n",
    "# 필요한 열만 로드\n",
    "columns_to_load = ['HashApp', 'HashFunction', 'Trigger']  # 필요한 열만 지정\n",
    "df_processed = pd.read_pickle(load_path)[columns_to_load]\n",
    "print(\"Data loaded successfully.\")\n",
    "print(f\"Data shape: {df_processed.shape}\")\n",
    "print(df_processed.head())"
   ]
  },
  {
   "cell_type": "code",
   "execution_count": null,
   "metadata": {},
   "outputs": [],
   "source": [
    "# Triger 'others' except\n",
    "original_rows = len(df_processed)\n",
    "df_filtered = df_processed[df_processed['Trigger'] != 'others'].copy()\n",
    "filtered_rows = len(df_filtered)\n",
    "print(f\"Filtered out 'others' from Trigger column: {original_rows} -> {filtered_rows}\")\n",
    "\n",
    "# Divide the DataFrame into 4 equal parts\n",
    "num_parts = 4\n",
    "part_size = len(df_processed) // num_parts\n",
    "for i in range(num_parts):\n",
    "    start_idx = i * part_size\n",
    "    end_idx = (i + 1) * part_size if i < num_parts - 1 else len(df_processed)\n",
    "    df_part = df_processed.iloc[start_idx:end_idx]\n",
    "    part_path = f\"{output_dir}/df_part_{i+1}.pkl\"\n",
    "    df_part.to_pickle(part_path)\n",
    "    print(f\"Saved part {i+1} to {part_path}, shape: {df_part.shape}\")"
   ]
  }
 ],
 "metadata": {
  "kernelspec": {
   "display_name": "mesp",
   "language": "python",
   "name": "python3"
  },
  "language_info": {
   "codemirror_mode": {
    "name": "ipython",
    "version": 3
   },
   "file_extension": ".py",
   "mimetype": "text/x-python",
   "name": "python",
   "nbconvert_exporter": "python",
   "pygments_lexer": "ipython3",
   "version": "3.13.5"
  }
 },
 "nbformat": 4,
 "nbformat_minor": 2
}
